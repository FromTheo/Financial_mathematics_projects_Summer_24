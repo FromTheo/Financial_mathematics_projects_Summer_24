{
 "cells": [
  {
   "cell_type": "code",
   "execution_count": 1,
   "id": "adcd94c5",
   "metadata": {},
   "outputs": [],
   "source": [
    "import numpy as np\n",
    "import matplotlib.pyplot as plt\n",
    "from numpy import linalg as LA\n",
    "from scipy.stats import norm "
   ]
  },
  {
   "cell_type": "markdown",
   "id": "0b509a2a",
   "metadata": {},
   "source": [
    "## Table des matières.\n",
    "1. [Méthodes numériques pour la recherche d'un zéro en dimension 1](#part1) \\\n",
    "    1.1 [Méthode de Dichotomie](#part11)  \\\n",
    "    1.2 [Méthode de Newton](#part12) \\\n",
    "    1.3 [Méthode de la sécante](#part13) \n",
    "2. [Méthodes numériques pour la recherche d'un zéro en dimension N](#part2) \\\n",
    "    2.1 [Méthode de Newton en dimension N](#part21)\\\n",
    "    2.2 [Méthode de Newton approchée en dimension N](#part22) \n",
    "3. [Calcul des rendements d'une obligation](#part3)\n",
    "4. [Volatilité implicite](#part4) \\\n",
    "    4.1 [Cas du call](#part41) \\\n",
    "    4.2 [Cas du put](#part42) \n",
    "5. [Détermination des taux zéro coupon : bootstrapping](#part5)"
   ]
  },
  {
   "cell_type": "markdown",
   "id": "0473d8ef",
   "metadata": {},
   "source": [
    "### 1) Méthodes numériques pour la recherche d'un zéro en dimension 1.<a id=\"part1\"></a>"
   ]
  },
  {
   "cell_type": "markdown",
   "id": "3b206746",
   "metadata": {},
   "source": [
    "> **Problème :**\n",
    "Durant toute cette section, notre objectif sera de trouver les zéros de $f(x) = x^4-5x^2+4-\\dfrac{1}{1+\\text{e}^{x^3}}.$"
   ]
  },
  {
   "cell_type": "code",
   "execution_count": 2,
   "id": "af58427f",
   "metadata": {},
   "outputs": [
    {
     "data": {
      "image/png": "[encoded data removed]",
      "text/plain": [
       "<Figure size 800x400 with 1 Axes>"
      ]
     },
     "metadata": {},
     "output_type": "display_data"
    }
   ],
   "source": [
    "def f(x) : \n",
    "    return x**4 - 5*x**2 + 4 - 1/(1+np.exp(x**3))\n",
    "\n",
    "x = np.linspace(-3, 3, 400)\n",
    "y = f(x)\n",
    "zeros = [-2.0743, -0.889642, 0.950748, 2.00003]\n",
    "plt.figure(figsize=(8, 4))\n",
    "plt.plot(x, y, label=fr\"$f(x)$\")\n",
    "plt.scatter(zeros, [0,0,0,0], color='r', label=fr\"Zéros de $f$\", alpha = 1)\n",
    "plt.xlabel('x')\n",
    "plt.ylabel('f(x)')\n",
    "plt.legend(loc='upper center')\n",
    "plt.grid(True)\n",
    "plt.axhline(0, color='black',linewidth=1.5)\n",
    "plt.axvline(0, color='black',linewidth=1.5)\n",
    "plt.show()"
   ]
  },
  {
   "cell_type": "markdown",
   "id": "0f5d48db",
   "metadata": {},
   "source": [
    "#### 1.1) Méthode de Dichotomie.<a id=\"part11\"></a>\n",
    "\n",
    "Commençons par introduire la méthode la plus simple qu'il soit pour rechercher une telle solution. Faisons l'hypothèse que $f : [a,b] \\rightarrow \\mathbb{R}$ est une fonction continue et que $f(a) \\times f(b) < 0$, autrement dit que le signe de $f(a)$ est différent du signe de $f(b)$. Par le théorème des valeurs intermédiaires il vient que : \n",
    "$$ \\exists x \\, \\in \\, [a,b] \\, \\text{t.q.} \\, f(x) = 0.$$\n",
    "\n",
    "Au sein de l'intervalle $[a,b]$, il peut y avoir plusieurs solution au problème $f(x) = 0$, cependant cette méthode ne permet que d'en trouver un seul. \n",
    "\n",
    "Le principe général est le suivant : \n",
    "* nous allons subdiviser l'intervalle $[a,b]$ en deux sous-intervalles $[a,c], [c,b]$ où $c = \\dfrac{a+b}{2}$.\n",
    "* deux cas se présentent : soit $f(a) \\times f(c) < 0$, soit $f(c) \\times f(b) < 0$. Si $f(a)$ et $f(c)$ sont de signe différents, alors on ré-itère avec $[a,c]$, sinon on ré-itère avec $[c,b]$. \n",
    "\n",
    "Afin de limiter la recherche, il faut introduire des seuils de tolérance. Premièrement, nous allons introduire `seuil_approx`, dès que celui-ci sera franchit nous considérerons que nous avons trouvé une solution. \n",
    "Deuxièmement, nous utiliserons `seuil_int`, la plus grande valeur de l'intervalle contenant la solution."
   ]
  },
  {
   "cell_type": "code",
   "execution_count": 3,
   "id": "242117d2",
   "metadata": {},
   "outputs": [],
   "source": [
    "def bisection_method(a,b,f,seuil_int, seuil_approx) : \n",
    "    # Vérification de l'hypothèse du signe des images par f des bornes de l'intervalle : \n",
    "    if(f(a) * f(b) > 0) : \n",
    "        print(\"Erreur : les images sont de même signe.\")\n",
    "        return 0 \n",
    "    \n",
    "    # Au cas où les bornes sont solutions. \n",
    "    if(np.abs(f(a)) < seuil_approx) : return a\n",
    "    if(np.abs(f(b)) < seuil_approx) : return b \n",
    "    \n",
    "    left = a \n",
    "    right = b\n",
    "    while max(np.abs(f(left)), np.abs(f(right))) > seuil_approx or right - left > seuil_int:\n",
    "        mid = (left + right) / 2\n",
    "        if(f(left) * f(mid) < 0) : \n",
    "            right = mid \n",
    "        else : \n",
    "            left = mid \n",
    "    return mid "
   ]
  },
  {
   "cell_type": "code",
   "execution_count": 4,
   "id": "8f21ac79",
   "metadata": {},
   "outputs": [
    {
     "data": {
      "text/plain": [
       "-0.8896418140211608"
      ]
     },
     "execution_count": 4,
     "metadata": {},
     "output_type": "execute_result"
    }
   ],
   "source": [
    "seuil_approx = 1e-9\n",
    "seuil_int = 1e-6 \n",
    "a = -2\n",
    "b = 3 \n",
    "bisection_method(a,b,f,seuil_int, seuil_approx)"
   ]
  },
  {
   "cell_type": "markdown",
   "id": "15b6e3a2",
   "metadata": {},
   "source": [
    "#### 1.2) Méthode de Newton. <a id=\"part12\"></a>\n",
    "Afin de pouvoir utiliser cette méthode, il est primordial d'avoir une expression explicite de la dérivée de $f$, puisque nous serons amené à considérer le développement de Taylor au premier ordre. \n",
    "\n",
    "En effet, partons d'un point $x_0$ que l'on choisit de préférence proche du zéro à trouver (à l'aide d'estimations préalables), on approche la fonction au premier ordre. Ce qui donne : \n",
    "\n",
    "$$ f(x) \\approx f(x_0) + f'(x_0)(x-x_0)$$\n",
    "\n"
   ]
  },
  {
   "cell_type": "markdown",
   "id": "429a9eee",
   "metadata": {},
   "source": [
    "On calcule ensuite l'intersection de la droite tangente avec l'axe des abscisses, ce qui revient à résoudre :\n",
    "\n",
    "$$ f(x_0) + f'(x_0)(x-x_0) = 0 $$\n",
    "\n",
    "$$ \\Leftrightarrow x = x_0 - \\dfrac{f(x_0)}{f'(x_0)} $$ \n",
    "\n",
    "On obtient alors un point $x_1$ qui est (en général) une meilleure approximation que $x_0$ de la solution recherchée. \n",
    "\n",
    "Ainsi, nous allons construire par récurrence la suite $(x_k)_{k \\geq 0}$ définie par : \n",
    "\n",
    "$$ x_{k+1} = x_k - \\dfrac{f(x_k)}{f'(x_k)}, x_0 = x_0 \\, (\\star)$$ "
   ]
  },
  {
   "cell_type": "markdown",
   "id": "36b5c4e2",
   "metadata": {},
   "source": [
    "> **Remarque:** Le choix d'un $x_0$ cohérent est primordial. Nous verrons plus tard que par exemple dans le cas d'un calcul de volatilité implicite, un bon choix est par exemple $x_0 = 0.20$ (correpondant à une volatilité de $20 \\%$), alors que $x_0 = 15$ ou $x_0 = -5$ se révèlent être des mauvais choix (et la méthode pourrait même ne pas converger en entrant dans une boucle infinie)."
   ]
  },
  {
   "cell_type": "code",
   "execution_count": 5,
   "id": "488db8bc",
   "metadata": {},
   "outputs": [],
   "source": [
    "def f_prime(x) : \n",
    "    return 4*x**3 + 3*x**2*np.exp(x**3)/(np.exp(x**3) + 1)**2 - 10*x"
   ]
  },
  {
   "cell_type": "markdown",
   "id": "321b5f7d",
   "metadata": {},
   "source": [
    "Voici l'implémentation de la méthode de Newton. Elle renvoie un tuple `(float, int)`, où le second élement est le nombre d'itérations de la méthode pour obtenir un valeur satisfaisante (sous le seuil imposé). "
   ]
  },
  {
   "cell_type": "code",
   "execution_count": 6,
   "id": "29147954",
   "metadata": {},
   "outputs": [],
   "source": [
    "def newton_method(x_0, f, f_prime, seuil_int, seuil_approx) : \n",
    "    x_new = x_0\n",
    "    x_old = x_0 - 1 \n",
    "    nb_iterations = 0 \n",
    "    while np.abs(f(x_new)) > seuil_approx or np.abs(x_new - x_old) > seuil_int:\n",
    "        x_old = x_new\n",
    "        x_new = x_old - f(x_old)/f_prime(x_old)\n",
    "        nb_iterations += 1\n",
    "    return x_new, nb_iterations"
   ]
  },
  {
   "cell_type": "code",
   "execution_count": 7,
   "id": "148429bf",
   "metadata": {},
   "outputs": [
    {
     "name": "stdout",
     "output_type": "stream",
     "text": [
      "(-2.0743044028661344, 6)\n",
      "(-0.889641813973701, 4)\n",
      "(0.9507482560163691, 4)\n",
      "(2.000027935245084, 7)\n"
     ]
    }
   ],
   "source": [
    "print(newton_method(-3, f, f_prime, seuil_int, seuil_approx))\n",
    "print(newton_method(-0.5, f, f_prime, seuil_int, seuil_approx))\n",
    "print(newton_method(0.5, f, f_prime, seuil_int, seuil_approx))\n",
    "print(newton_method(3, f, f_prime, seuil_int, seuil_approx))"
   ]
  },
  {
   "cell_type": "markdown",
   "id": "ffc910e5",
   "metadata": {},
   "source": [
    ">**Remarque:** Nous aurions pu calculer la dérivée de $f$ avec la bibliothèque `sympy`, permettant à la fois de l'expliciter et de l'évaluer aux points souhaités. "
   ]
  },
  {
   "cell_type": "markdown",
   "id": "e4e01a61",
   "metadata": {},
   "source": [
    "#### 1.3) Méthode de la sécante.<a id=\"part13\"></a>\n",
    "Dans un nombre accru de problèmes mathématiques, la dérivée n'est pas accessible directement ou peut être compliquée à expliciter. Cette méthode (moins bonne que celle de Newton), permet de faire une approximation de la dérivée au moyen de différences finies : \n",
    "$$ f'(a) \\approx \\dfrac{f(a+h)-f(a)}{h}, $$ pour $h$ suffisamment proche de $0$.  \n",
    "En posant $a = x_k, h = x_k - x_{k-1}$, on obtient : \n",
    "$$ f'(x_k) \\approx \\dfrac{f(x_k)-f(x_{k-1})}{x_k - x_{k-1}}, $$ que l'on injecte directement dans la suite récurrente $(\\star)$.\n",
    "Finalement : \n",
    "\n",
    "$$ x_{k+1} = x_k - \\dfrac{(x_k-x_{k-1})f(x_k)}{f(x_k)-f(x_{k-1})} \\, \\forall \\,k \\geq 0.$$ \n",
    "\n",
    "Contraiment à la méthode de Newton, deux approximations $x_{-1}$ et $x_0$ doivent préalablement être réalisées. Ces dernières sont choisies raisonnablement en fonction du contexte. Ici également, pour des valeurs non cohérentes, la méthode peut diverger. "
   ]
  },
  {
   "cell_type": "code",
   "execution_count": 8,
   "id": "bc59478b",
   "metadata": {},
   "outputs": [],
   "source": [
    "def secant_method(x_minus1, x_0, f, seuil_int, seuil_approx) : \n",
    "    x_new = x_0\n",
    "    x_old = x_minus1\n",
    "    nb_iterations = 0\n",
    "    while np.abs(f(x_new)) > seuil_approx or np.abs(x_new - x_old) > seuil_int : \n",
    "        x_oldest = x_old\n",
    "        x_old = x_new\n",
    "        x_new = x_old - f(x_old)*(x_old-x_oldest)/(f(x_old)-f(x_oldest))\n",
    "        nb_iterations += 1\n",
    "    return x_new, nb_iterations"
   ]
  },
  {
   "cell_type": "code",
   "execution_count": 9,
   "id": "b1b211b7",
   "metadata": {},
   "outputs": [
    {
     "name": "stdout",
     "output_type": "stream",
     "text": [
      "(-2.0743044028666073, 6)\n",
      "(-0.8896418139736726, 4)\n",
      "(0.95074825601641, 4)\n",
      "(2.0000279352451216, 7)\n"
     ]
    }
   ],
   "source": [
    "print(secant_method(-2.5,-2.25, f, seuil_int, seuil_approx))\n",
    "print(secant_method(-1,-0.75, f, seuil_int, seuil_approx))\n",
    "print(secant_method(0.75,1, f, seuil_int, seuil_approx))\n",
    "print(secant_method(2.25,2.5, f, seuil_int, seuil_approx))"
   ]
  },
  {
   "cell_type": "markdown",
   "id": "2553aa86",
   "metadata": {},
   "source": [
    "### 2) Méthodes numériques pour la recherche d'un zéro en dimension N.<a id=\"part2\"></a>"
   ]
  },
  {
   "cell_type": "markdown",
   "id": "882c1a72",
   "metadata": {},
   "source": [
    ">**Problème:** Durant toute cette section, notre objectif sera de trouver les zéros de la fonction $$ F : x \\, \\in \\mathbb{R}^3 \\rightarrow \\begin{pmatrix}\n",
    "x_1^3+2x_1x_2+x_3^2-x_2x_3 +9 \\\\\n",
    "2x_1^2 + 2x_1x_2^2+x_2^3x_3^2-x_2^2x_3 -2 \\\\ \n",
    "x_1x_2x_3 + x_1^3 - x_3^2 - x_1x_2^2-4\n",
    "\\end{pmatrix},$$ où : \n",
    ">$$\\nabla F = \\left(\\begin{matrix} \n",
    "3x_1^2 + 2x_2 & 2x_1 - x_3 & 2x_3 - x_2 \\\\ \n",
    "4x_1 + 2x_2^2 & 4x_1x_2 + 3x_2^2x_3^2 - 2x_2x_3 & 2x_2^2x_3 - x_2^2 \\\\ \n",
    "x_2x_3 + 3x_1^2 - x_2^2 & x_1x_3 - 2x_1x_2 & x_1x_2 - 2x_3 \\\\ \n",
    "\\end{matrix}\\right).\n",
    "$$"
   ]
  },
  {
   "cell_type": "code",
   "execution_count": 10,
   "id": "32ef9b95",
   "metadata": {},
   "outputs": [],
   "source": [
    "def F(x):\n",
    "    return np.array([\n",
    "        x[0]**3 + 2*x[0]*x[1] + x[2]**2 - x[1]*x[2] + 9, \n",
    "        2*x[0]**2 + 2*x[0]*x[1]**2 + x[1]**3*x[2]**2 - x[1]**2*x[2] - 2, \n",
    "        x[0]*x[1]*x[2] + x[0]**3 - x[2]**2 - x[0]*x[1]**2 - 4 ])"
   ]
  },
  {
   "cell_type": "code",
   "execution_count": 11,
   "id": "0fa6a073",
   "metadata": {},
   "outputs": [
    {
     "name": "stdout",
     "output_type": "stream",
     "text": [
      "[[ 9 -3 -1]\n",
      " [14  9  9]\n",
      " [-3  5 -5]]\n"
     ]
    }
   ],
   "source": [
    "def gradient_F(x):\n",
    "    return np.array([[3*x[0]**2 + 2*x[1], 2*x[0] - x[2], 2*x[2] - x[1]],\n",
    "                     [4*x[0] + 2*x[1]**2, 4*x[0]*x[1] + 3*x[1]**2*x[2]**2 - 2*x[1]*x[2], 2*x[1]**2*x[2] - x[1]**2],\n",
    "                     [x[1]*x[2] + 3*x[0]**2 - x[1]**2, x[0]*x[2] - 2*x[0]*x[1], x[0]*x[1] - 2*x[2]]])\n",
    "\n",
    "result = gradient_F(np.array([-1, 3, 1]))\n",
    "print(result)"
   ]
  },
  {
   "cell_type": "markdown",
   "id": "1ae9ea5d",
   "metadata": {},
   "source": [
    "#### 2.1) Méthode de Newton en dimension N.<a id=\"part21\"></a>\n",
    "De manière générale, soit $F : \\mathbb{R}^N \\rightarrow \\mathbb{R}^N$, qui est supossée de classe $\\mathcal{C}^1(\\mathbb{R}^N)$. \n",
    "Comme en section 1.2, nous avons recours au développement de Taylor : \n",
    "\n",
    "$$ F(x_{k+1}) \\approx F(x_k) + \\nabla F(x_k)(x_{k+1}-x_k).$$\n",
    "\n",
    "En approchant $F(x_{k+1})$ par $0$ (cette hypothèse est raisonnable en raison du choix des conditions initiales) : \n",
    "\n",
    "$$ 0 \\approx F(x_k) + \\nabla F(x_k)^t(x_{k+1}-x_k)$$\n",
    "\n",
    "$$ \\Leftrightarrow x_{k+1} = x_k - \\nabla F(x_k))^{-1}F(x_k)$$ \n"
   ]
  },
  {
   "cell_type": "markdown",
   "id": "1e7be342",
   "metadata": {},
   "source": [
    "En pratique, on ne calcule pas $\\nabla F(x_k))^{-1}$, car c'est très coûteux. Remarquons que c'est équivalent au fait de résoudre le système linéaire : \n",
    "\n",
    "$$ \\nabla F(x_k)v_k = F(x_k), \\text{  où   }v_k = (\\nabla F(x_k))^{-1}F(x_k),$$\n",
    "\n",
    "qui peut facilement s'obtenir au moyen de `numpy.linalg.solve`. \n",
    "\n",
    "Au final la formule de récurrence de la suite $(x_k)_{k \\geq 0}$ est : \n",
    "\n",
    "$$ x_{k+1} = x_k -v_k. $$ "
   ]
  },
  {
   "cell_type": "markdown",
   "id": "5171783c",
   "metadata": {},
   "source": [
    "De plus pour calculer la norme euclidienne (celle que nous utiliserons pour juger de la validité du résultat), on aura besoin de `numpy.linalg.norm` dont l'argument par défaut permet de calculer la norme souhaitée (norme euclidienne). "
   ]
  },
  {
   "cell_type": "code",
   "execution_count": 12,
   "id": "e5d6d5b1",
   "metadata": {},
   "outputs": [],
   "source": [
    "def newton_N_method(x0, F, gradient_F, seuil_int, seuil_approx) : \n",
    "    x_new = x0\n",
    "    x_old = x0 - np.ones(x0.shape) # Ou len(x0) pour une liste.\n",
    "    nb_iterations = 0 \n",
    "    while LA.norm(F(x_new)) > seuil_approx or LA.norm(x_new-x_old) > seuil_int : \n",
    "        x_old = x_new \n",
    "        grad = gradient_F(x_old)\n",
    "        x_new = x_old - LA.solve(grad, F(x_old))\n",
    "        nb_iterations += 1\n",
    "    return x_new, nb_iterations"
   ]
  },
  {
   "cell_type": "code",
   "execution_count": 13,
   "id": "6a22bb89",
   "metadata": {},
   "outputs": [
    {
     "name": "stdout",
     "output_type": "stream",
     "text": [
      "(array([-1.69055076,  1.98310724, -0.88455808]), 55)\n"
     ]
    }
   ],
   "source": [
    "print(newton_N_method(np.array([1,2,3]), F, gradient_F, seuil_int, seuil_approx))"
   ]
  },
  {
   "cell_type": "markdown",
   "id": "4c3d4051",
   "metadata": {},
   "source": [
    "#### 2.2) Méthode de Newton approchée en dimension N. <a id=\"part22\"></a>"
   ]
  },
  {
   "cell_type": "markdown",
   "id": "70d38153",
   "metadata": {},
   "source": [
    "Toujours dans le contexte dans la méthode la sécante, on approche le gradient de $F$ par différences finies (vraie valeur trop couteuse à calculer, ou tout simplement impossible). En notant $(e_i)_{1 \\leq i \\leq N}$ la base canonique de $\\mathbb{R}^N$, il vient que (pour $h \\rightarrow 0$): \n",
    "\n",
    "$$ \\dfrac{\\partial F_i}{\\partial x_j}(x) \\approx \\Delta_jF_i(x) = \\dfrac{F_i(x+he_j)-F_i(x)}{h}$$ \n",
    "\n",
    "Posons alors : \n",
    "\n",
    "$$ \\Delta F(x) = \\left(\\begin{matrix}\n",
    "\\Delta_1F_1(x) & \\Delta_2F_1(x) & \\cdots & \\Delta_NF_1(x)\\\\\n",
    "\\Delta_1F_2(x) & \\Delta_2F_2(x) & \\cdots & \\Delta_NF_2(x)\\\\\n",
    "\\vdots & \\vdots & \\ddots & \\vdots\\\\\n",
    "\\Delta_1F_N(x) & \\Delta_2F_N(x) & \\cdots & \\Delta_NF_N(x)\\\\\n",
    "\\end{matrix}\\right).\n",
    "$$\n",
    "\n",
    "Il suffit alors de remplacer $\\nabla F$ par $\\Delta F$ dans la formule de Newton : \n",
    "\n",
    "$$x_{k+1} = x_k - \\left(\\Delta F(x_k)\\right)^{-1}F(x_k),$$\n",
    "\n",
    "comme précédemment remarquons que c'est équivalent au fait de résoudre le système linéaire : \n",
    "\n",
    "$$ \\Delta F(x_k)v_k = F(x_k), \\text{  où   }v_k = (\\Delta F(x_k))^{-1}F(x_k),$$\n",
    "\n",
    "Finalement la formule de récurrence est : \n",
    "\n",
    "$$ x_{k+1} = x_k -v_k.$$"
   ]
  },
  {
   "cell_type": "markdown",
   "id": "0b0788a3",
   "metadata": {},
   "source": [
    "Implémentons une routine `compute_approx_grad(F, N, x, h)` implémentant la matrice $\\Delta F(x)$ selon la précédente définition.\n",
    "* `F`, la fonction considérée. \n",
    "* `N`, dimension de l'espace sur lequel $F$ est définie. \n",
    "* `x`, vecteur passé en argument. "
   ]
  },
  {
   "cell_type": "code",
   "execution_count": 14,
   "id": "cff971be",
   "metadata": {},
   "outputs": [
    {
     "name": "stdout",
     "output_type": "stream",
     "text": [
      "Approx. avec diff. finies : \n",
      " [[5.003000999998619, 0.9999999999994458, 1.0010000000004737], [6.001999999998731, 5.004000999999647, 1.0010000000004737], [3.0030009999997276, -1.0009999999995856, -1.0009999999995856]]\n",
      "\n",
      "\n",
      "`Vrai` gradient : \n",
      " [[ 5  1  1]\n",
      " [ 6  5  1]\n",
      " [ 3 -1 -1]]\n"
     ]
    }
   ],
   "source": [
    "def compute_approx_grad(F, N, x, h) : \n",
    "    res = []\n",
    "    for i in range(1,N+1) :\n",
    "        line = []\n",
    "        for j in range(1, N+1) : \n",
    "            e = np.zeros(N) \n",
    "            e[j-1] = 1 \n",
    "            line.append((F(x+e*h)[i-1]-F(x)[i-1])/h)\n",
    "        res.append(line)      \n",
    "    return res\n",
    "\n",
    "print(\"Approx. avec diff. finies : \\n\", compute_approx_grad(F,3, [1,1,1],0.001))\n",
    "print(\"\\n\")\n",
    "print(\"`Vrai` gradient : \\n\", gradient_F([1,1,1]))\n"
   ]
  },
  {
   "cell_type": "markdown",
   "id": "3d1b2b81",
   "metadata": {},
   "source": [
    "Terminons par le code de la fonction `newton_N_method_approx`, sur le modèle de `newton_N_method`. "
   ]
  },
  {
   "cell_type": "code",
   "execution_count": 15,
   "id": "c6433687",
   "metadata": {},
   "outputs": [
    {
     "name": "stdout",
     "output_type": "stream",
     "text": [
      "[-1.  3.  1.]  trouvé avec  79  itérations.\n",
      "[-1.69055076  1.98310724 -0.88455808]  trouvé avec  9  itérations.\n"
     ]
    }
   ],
   "source": [
    "def newton_N_method_approx(x0, F, seuil_int, seuil_approx) : \n",
    "    x_new = x0\n",
    "    x_old = x0 - np.ones(len(x0))\n",
    "    h = seuil_int \n",
    "    N = len(x0)\n",
    "    nb_iterations = 0 \n",
    "    while LA.norm(F(x_new)) > seuil_approx or LA.norm(x_new-x_old) > seuil_int : \n",
    "        x_old = x_new \n",
    "        grad_approx = compute_approx_grad(F, N, x_old, h)\n",
    "        x_new = x_old - LA.solve(grad_approx, F(x_old))\n",
    "        nb_iterations += 1\n",
    "    return x_new, nb_iterations\n",
    "\n",
    "x_new, nb_iterations = newton_N_method_approx(np.array([2,2,2]), F, seuil_int, seuil_approx)\n",
    "print(x_new, \" trouvé avec \", nb_iterations, \" itérations.\")\n",
    "x_new, nb_iterations = newton_N_method_approx(np.array([1,2,3]), F, seuil_int, seuil_approx)\n",
    "print(x_new, \" trouvé avec \", nb_iterations, \" itérations.\")"
   ]
  },
  {
   "cell_type": "markdown",
   "id": "03b229ab",
   "metadata": {},
   "source": [
    "### 3) Calcul des rendements d'une obligation.<a id=\"part3\"></a>"
   ]
  },
  {
   "cell_type": "markdown",
   "id": "2b9213d5",
   "metadata": {},
   "source": [
    "Nous avons vu dans le document *Chapter 1 : Integral Approximation and Bond Pricing* une analyse détaillée des obligations, traitant en particulier de $y$, le rendement de l'obligation aussi appelé le taux actuariel. Pour rappel, c'est le taux constant auquel la somme des flux futurs actualisés de l'obligation est égal au prix de l'obligation. En d'autres termes : \n",
    "\n",
    "\n",
    "$$ B = \\displaystyle \\sum_{i=1}^n c_i\\,\\text{exp}(-yt_i).$$\n",
    "\n",
    "Pour un prix $B$ donné, cette équation est une équation non linéaire en $y$ : nous allons utiliser la méthode de Newton pour approcher $y$. "
   ]
  },
  {
   "cell_type": "markdown",
   "id": "7352eb20",
   "metadata": {},
   "source": [
    "On pose alors : \n",
    "\n",
    "$$f(x) = \\displaystyle \\sum_{i=1}^{n} c_i\\mathrm{e}^{-xt_i} - B.$$\n",
    "\n",
    "Cette fonction est clairement dérivable sur $\\mathbb{R}$ (elle y est même $\\mathcal{C}^{\\infty}$), on obtient par linéarité de l'opérateur dérivation : \n",
    "\n",
    "$$f'(x) = -\\displaystyle \\sum_{i=1}^{n} t_ic_i\\mathrm{e}^{-xt_i}.$$\n",
    "\n",
    "En appliquant à présent la méthode de Newton (c.f. section $1.2$) avec : \n",
    "\n",
    "$$x_{k+1} = x_k - \\dfrac{f(x_k)}{f'(x_k)} = x_k + \\dfrac{\\displaystyle \\sum_{i=1}^{n} c_i\\mathrm{e}^{-xt_i} - B}{\\displaystyle \\sum_{i=1}^{n} t_ic_i\\mathrm{e}^{-xt_i}},$$ \n",
    "et $x_0 = 0.1$ (c'est à dire $10\\%$, qui est une estimation raisonnable pour le rendement d'une obligation)."
   ]
  },
  {
   "cell_type": "code",
   "execution_count": 16,
   "id": "5f0c3acf",
   "metadata": {},
   "outputs": [],
   "source": [
    "def f(x, B, n, t_cash_flow, v_cash_flow) : \n",
    "    t_cash_flow = np.array(t_cash_flow)\n",
    "    c_cash_flow = np.array(v_cash_flow)\n",
    "    return np.sum(v_cash_flow * np.exp(-x * t_cash_flow)) - B"
   ]
  },
  {
   "cell_type": "code",
   "execution_count": 17,
   "id": "ddda29d3",
   "metadata": {},
   "outputs": [],
   "source": [
    "def f_prime(x, B, n, t_cash_flow, v_cash_flow) : \n",
    "    t_cash_flow = np.array(t_cash_flow)\n",
    "    c_cash_flow = np.array(v_cash_flow)\n",
    "    return -np.sum(v_cash_flow * t_cash_flow * np.exp(-x * t_cash_flow))"
   ]
  },
  {
   "cell_type": "code",
   "execution_count": 18,
   "id": "5a48af78",
   "metadata": {},
   "outputs": [],
   "source": [
    "def bond_yield(x0, B, n, t_cash_flow, v_cash_flow) : \n",
    "    x_new = x0\n",
    "    x_old = x0 - 1 \n",
    "    seuil = 1e-6\n",
    "    while np.abs(x_new - x_old) > seuil : \n",
    "        x_old = x_new \n",
    "        x_new = x_old - f(x_old, B, n, t_cash_flow, v_cash_flow)/f_prime(x_old, B, n, t_cash_flow, v_cash_flow)\n",
    "    return x_new"
   ]
  },
  {
   "cell_type": "markdown",
   "id": "1ce9410a",
   "metadata": {},
   "source": [
    "> **Exemple:** Utiliser la méthode de Newton pour trouver le rendement de l'obligation de maturité $T = 5$ ans, à coupon bi-annuel où $C = 3.375 \\%$, et de prix $B = 100+\\dfrac{1}{32}$. "
   ]
  },
  {
   "cell_type": "code",
   "execution_count": 19,
   "id": "81b03908",
   "metadata": {},
   "outputs": [
    {
     "name": "stdout",
     "output_type": "stream",
     "text": [
      "y =  0.03340109853803073\n"
     ]
    }
   ],
   "source": [
    "n = 10\n",
    "B = 100+1/32\n",
    "C = 0.03375\n",
    "F = 100\n",
    "t_cash_flow = [6/12, 12/12, 18/12, 24/12, 30/12, 36/12, 42/12, 48/12, 54/12, 60/12]\n",
    "c_cash_flow = [C/2*F] * (n-1) + [(1 + C/2)*F]\n",
    "\n",
    "print(\"y = \", bond_yield(0.1, B, n, t_cash_flow, c_cash_flow)) # y = 3.3401 % "
   ]
  },
  {
   "cell_type": "markdown",
   "id": "d01266aa",
   "metadata": {},
   "source": [
    "Avec le rendement $y$ de l'obligation, il est à présent possible de calculer la duration $D$ et la convexité $C$. Afin de vérifier que notre précédente implémentation est correcte, on peut par ce biais remonter au prix de l'obligation $B$. Pour plus de détails à ce sujet je vous renvoie vers le document *Chapter 1 : Integral Approximation and Bond Pricing*. \n",
    "\n",
    "Par définition : \n",
    "\n",
    "$$ B = \\displaystyle \\sum_{i=1}^n c_i\\,\\text{exp}(-yt_i),\\, D = \\dfrac{1}{B} \\sum_{i=1}^n t_ic_i \\, \\text{exp}(-yt_i), \\,C = \\dfrac{1}{B}\\displaystyle\\sum_{i=1}^n t_i^2c_i\\,\\text{exp}(-yt_i).$$\n",
    "\n",
    "Introduisons `price_duration_convexity`, afin de calculer ces quantités renvoyées sous forme de tuple.  "
   ]
  },
  {
   "cell_type": "code",
   "execution_count": 21,
   "id": "30f53174",
   "metadata": {},
   "outputs": [],
   "source": [
    "def price_duration_convexity(n,t_cash_flow, c_cash_flow, y) : \n",
    "    B = 0\n",
    "    D = 0\n",
    "    C = 0\n",
    "    for i in range (0,n) : \n",
    "        discount_factor = np.exp(-t_cash_flow[i]*y)\n",
    "        B += c_cash_flow[i]*discount_factor\n",
    "        D += t_cash_flow[i]*c_cash_flow[i]*discount_factor\n",
    "        C += t_cash_flow[i]**2*c_cash_flow[i]*discount_factor \n",
    "    D /= B \n",
    "    C /= B\n",
    "    return B,D,C"
   ]
  },
  {
   "cell_type": "code",
   "execution_count": 22,
   "id": "73eb5640",
   "metadata": {},
   "outputs": [
    {
     "name": "stdout",
     "output_type": "stream",
     "text": [
      "B =  100.03125\n",
      "new_B =  100.03125000009308\n",
      "D =  4.642735048425559\n",
      "C =  22.57311801585167\n"
     ]
    }
   ],
   "source": [
    "n = 10\n",
    "B = 100+1/32\n",
    "C = 0.03375\n",
    "F = 100\n",
    "t_cash_flow = [6/12, 12/12, 18/12, 24/12, 30/12, 36/12, 42/12, 48/12, 54/12, 60/12]\n",
    "c_cash_flow = [C/2*F] * (n-1) + [(1 + C/2)*F]\n",
    "y = bond_yield(0.1, B, n, t_cash_flow, c_cash_flow)\n",
    "\n",
    "new_B, D, C = price_duration_convexity(n, t_cash_flow, c_cash_flow, y)\n",
    "print(\"B = \", B)\n",
    "print(\"new_B = \", new_B) # Erreur d'arrondi suite à l'approximation de y par la routine `bond_yield`. \n",
    "print(\"D = \", D)\n",
    "print(\"C = \", C)"
   ]
  },
  {
   "cell_type": "markdown",
   "id": "3415a6b7",
   "metadata": {},
   "source": [
    "### 4) Volatilité implicite.<a id=\"part4\"></a>"
   ]
  },
  {
   "cell_type": "markdown",
   "id": "36b0d1e9",
   "metadata": {},
   "source": [
    "Dans la formule de l'évaluation d'options de Black-Scholes, un seul paramètre ne peut être observé directement : la volatilité de l'action. Nous allons donc se servir des équations de Black-Scholes, mais à l'envers. On part du prix de marché de l'option pour en déduire la volatilité que les opérateurs de marché estiment pour l'avenir."
   ]
  },
  {
   "cell_type": "markdown",
   "id": "cade49f6",
   "metadata": {},
   "source": [
    "#### 4.1) Cas du call. <a id=\"part41\"></a>\n",
    "Nous rappelons la formule de Black-Scholes pour un call de sur l'actif sous jacent $S$, de maturité $T$ et de strike $K$. On suppose également que le sous jacent paie des dividendes à rythme continu au taux $q$. Enfin, le taux sans risque est $r$. On a pour tout $ 0 \\leq t < T$ : \n",
    "\n",
    "$$C_t = S_t\\text{e}^{-q(T-t)}\\mathcal{N}(d_1) - K\\text{e}^{-r(T-t)}\\mathcal{N}(d_2),$$\n",
    "\n",
    "avec $d_1 = \\dfrac{\\ln{\\left(\\dfrac{S}{K}\\right)} + \\left(r-q+\\dfrac{\\sigma ^2}{2}\\right)(T-t)}{\\sigma \\sqrt{T-t}}$, $d_2 = d_1 - \\sigma \\sqrt{T-t} = \\dfrac{\\ln{\\left(\\dfrac{S}{K}\\right)} + \\left(r-q-\\dfrac{\\sigma ^2}{2}\\right)(T-t)}{\\sigma \\sqrt{T-t}}.$\n",
    "\n",
    "Pour des raisons de clarté, on pose ici $t = 0$. Trouver la volatilité implicite revient à résoudre l'équation $f(x) = 0$ où : \n",
    "\n",
    "$$f(x) = S_0\\text{e}^{-qT}\\mathcal{N}(d_1(x)) - K\\text{e}^{-rT}\\mathcal{N}(d_2(x)) - C_0,$$\n",
    "\n",
    "avec donc  $d_1 = \\dfrac{\\ln{\\left(\\dfrac{S}{K}\\right)} + \\left(r-q+\\dfrac{x^2}{2}\\right)T}{\\sigma \\sqrt{T}}$, $d_2 = d_1 - x\\sqrt{T} = \\dfrac{\\ln{\\left(\\dfrac{S}{K}\\right)} + \\left(r-q-\\dfrac{x^2}{2}\\right)T}{\\sigma \\sqrt{T}}.$"
   ]
  },
  {
   "cell_type": "markdown",
   "id": "6e657886",
   "metadata": {},
   "source": [
    "Afin de pouvoir appliquer la méthode de Newton, il faut dériver $f$ par rapport à $x$. Ceci revient par définition, à calculer le vega du call. Ce dernier est défini comme \n",
    "\n",
    "$$ \\text{vega}(C) = \\dfrac{\\partial C}{\\partial \\sigma}.$$\n",
    "\n",
    "Calculons le :  \n",
    "\n",
    "$$\\dfrac{\\partial C}{\\partial \\sigma} = S_0\\text{e}^{-qT}\\mathcal{N}'(d_1)\\dfrac{\\partial d_1}{\\partial \\sigma} - K\\text{e}^{-rT}\\mathcal{N}'(d_2)\\dfrac{\\partial d_2}{\\partial \\sigma}, $$ par la règle de chaîne. \n",
    "\n",
    "$$\\Leftrightarrow \\dfrac{\\partial C}{\\partial \\sigma} = S_0\\text{e}^{-qT}\\mathcal{N}'(d_1)\\left(\\dfrac{\\partial d_1}{\\partial \\sigma}-\\dfrac{\\partial d_2}{\\partial \\sigma}\\right),$$\n",
    "en utilisant le fait que $ S_0\\text{e}^{-qT}\\mathcal{N}'(d_1) = K\\text{e}^{-rT}\\mathcal{N}'(d_2)$. \n",
    "\n",
    "Pour plus de détails consulter le document *Chapter 4 : Greeks and Hedging*. \n",
    "\n",
    "$$\\Leftrightarrow \\dfrac{\\partial C}{\\partial \\sigma} = S_0\\text{e}^{-qT}\\dfrac{\\partial \\left(d_1-d_2\\right)}{\\partial \\sigma}\\dfrac{1}{\\sqrt{2\\pi}}\\text{e}^{-\\frac{d_1^2}{2}},$$ et comme $d_1-d_2 = \\sigma \\sqrt{T}$ :\n",
    "\n",
    "$$\\Leftrightarrow \\dfrac{\\partial C}{\\partial \\sigma} = S_0\\text{e}^{-qT}\\sqrt{T}\\dfrac{1}{\\sqrt{2\\pi}}\\text{e}^{-\\frac{d_1^2}{2}}.$$"
   ]
  },
  {
   "cell_type": "markdown",
   "id": "abf71b1b",
   "metadata": {},
   "source": [
    "Commençons par implémenter la fonction $f(x)$, ainsi que sa dérivée, $\\text{vega}(x)$. "
   ]
  },
  {
   "cell_type": "code",
   "execution_count": 23,
   "id": "1db0c959",
   "metadata": {},
   "outputs": [],
   "source": [
    "def f_call(x,C,S,K,T,q,r) : \n",
    "    d1 = (np.log(S/K) + (r-q+x*x/2)*(T))/(x*np.sqrt(T))\n",
    "    d2 = d1-x*np.sqrt(T)\n",
    "    return S*np.exp(-q*T)*norm.cdf(d1)-K*np.exp(-r*T)*norm.cdf(d2) - C"
   ]
  },
  {
   "cell_type": "code",
   "execution_count": 24,
   "id": "f3b1f804",
   "metadata": {},
   "outputs": [],
   "source": [
    "def vega(x,S,K,T,q,r) : \n",
    "    d1 = (np.log(S/K) + (r-q+x*x/2)*(T))/(x*np.sqrt(T))\n",
    "    return S*np.exp(-q*T)*np.sqrt(T)*1/np.sqrt(2*np.pi)*np.exp(-d1*d1/2)"
   ]
  },
  {
   "cell_type": "markdown",
   "id": "eaf3cbc3",
   "metadata": {},
   "source": [
    "> **Exemple:**  Trouver la volatilité implicite d'un call $ATM$ de premium $C = 2.5$, \n",
    "    de strike $K = 30$, de maturité $T = 1/4$ année de taux de dividendes : $q = 0.02$, avec un taux sans risque de $6 \\%$, i.e. $r = 0.06$.\n",
    ">\n",
    "> Réaliser ce calcul avec `bisection_method`, `secant_method` et `newton_method`. Comparer. "
   ]
  },
  {
   "cell_type": "code",
   "execution_count": 25,
   "id": "95f19506",
   "metadata": {},
   "outputs": [],
   "source": [
    "T = 1/4 \n",
    "K = 30 \n",
    "S = 30 \n",
    "C = 2.5\n",
    "q = 0.02 \n",
    "r = 0.06 \n",
    "seuil_approx = 1e-9\n",
    "seuil_int = 1e-6 \n",
    "a = 0.0001\n",
    "b = 1"
   ]
  },
  {
   "cell_type": "markdown",
   "id": "38633846",
   "metadata": {},
   "source": [
    "Comme $0 \\leq \\sigma \\leq 1$, on convient de choisir `a = 1e-4` et `b = 1` pour la méthode de Dichotomie. "
   ]
  },
  {
   "cell_type": "code",
   "execution_count": 26,
   "id": "4148721a",
   "metadata": {},
   "outputs": [],
   "source": [
    "a = 0.0001\n",
    "b = 1"
   ]
  },
  {
   "cell_type": "code",
   "execution_count": 27,
   "id": "86a2ef45",
   "metadata": {},
   "outputs": [
    {
     "name": "stdout",
     "output_type": "stream",
     "text": [
      "Approx. =  0.3970486286657978  avec  33  itérations.\n"
     ]
    }
   ],
   "source": [
    "def bisection_method_call_option(a, b, f, C, S, K, T, q, r, seuil_int, seuil_approx) : \n",
    "    if(f(a,C,S,K,T,q,r) * f(b,C,S,K,T,q,r)  > 0) : \n",
    "        print(\"Erreur : les images sont de même signe.\")\n",
    "        return 0 \n",
    "    \n",
    "    if(np.abs(f(a,C,S,K,T,q,r)) < seuil_approx) : return a\n",
    "    if(np.abs(f(b,C,S,K,T,q,r)) < seuil_approx) : return b \n",
    "    \n",
    "    left = a \n",
    "    right = b\n",
    "    compteur = 0\n",
    "    while max(np.abs(f(left,C,S,K,T,q,r)), np.abs(f(right,C,S,K,T,q,r))) > seuil_approx or right - left > seuil_int:\n",
    "        mid = (left + right) / 2\n",
    "        if(f(left,C,S,K,T,q,r) * f(mid,C,S,K,T,q,r) < 0) : \n",
    "            right = mid \n",
    "        else : \n",
    "            left = mid \n",
    "        compteur+=1\n",
    "    return mid, compteur  \n",
    "\n",
    "mid, compteur = bisection_method_call_option(a, b, f_call, C, S, K, T, q, r, seuil_int, seuil_approx)\n",
    "print(\"Approx. = \", mid, \" avec \", compteur, \" itérations.\")"
   ]
  },
  {
   "cell_type": "markdown",
   "id": "16b82d8a",
   "metadata": {},
   "source": [
    "Pour la méthode de la sécante et la méthode de Newton, on choisit $x_0 = 0.5$ et $x_{-1} = 0.6$.  "
   ]
  },
  {
   "cell_type": "code",
   "execution_count": 28,
   "id": "d7ab8db0",
   "metadata": {},
   "outputs": [],
   "source": [
    "x_0 = 0.5\n",
    "x_minus1 = 0.6"
   ]
  },
  {
   "cell_type": "code",
   "execution_count": 29,
   "id": "5a295140",
   "metadata": {},
   "outputs": [
    {
     "name": "stdout",
     "output_type": "stream",
     "text": [
      "Approx. =  0.3970486287323524  avec  3  itérations.\n"
     ]
    }
   ],
   "source": [
    "def secant_method_call_option(x_minus1, x_0, f, C, S, K, T, q, r, seuil_int, seuil_approx) : \n",
    "    x_new = x_0\n",
    "    x_old = x_minus1\n",
    "    nb_iterations = 0\n",
    "    while np.abs(f(x_new,C,S,K,T,q,r)) > seuil_approx or np.abs(x_new - x_old) > seuil_int : \n",
    "        x_oldest = x_old\n",
    "        x_old = x_new\n",
    "        x_new = x_old - f(x_old,C,S,K,T,q,r)*(x_old-x_oldest)/(f(x_old,C,S,K,T,q,r)-f(x_oldest,C,S,K,T,q,r))\n",
    "        nb_iterations += 1\n",
    "    return x_new, nb_iterations\n",
    "\n",
    "x_new, nb_iterations = secant_method_call_option(x_minus1, x_0, f_call, C, S, K, T, q, r, seuil_int, seuil_approx)\n",
    "print(\"Approx. = \", x_new, \" avec \", nb_iterations, \" itérations.\")"
   ]
  },
  {
   "cell_type": "code",
   "execution_count": 30,
   "id": "0ce2bb1c",
   "metadata": {},
   "outputs": [
    {
     "name": "stdout",
     "output_type": "stream",
     "text": [
      "Approx. =  0.39704862873147384  avec  3  itérations.\n"
     ]
    }
   ],
   "source": [
    "def implied_volatility_call(x0,C,S,K,T,q,r) :  \n",
    "    x_new = x0\n",
    "    x_old = x0 - 1\n",
    "    seuil = 1e-6\n",
    "    nb_iterations = 0 \n",
    "    while np.abs(x_new-x_old) > seuil : \n",
    "        x_old = x_new \n",
    "        x_new -= f_call(x_new, C,S,K,T,q,r)/vega(x_new,S,K,T,q,r)\n",
    "        nb_iterations +=1 \n",
    "    return x_new, nb_iterations \n",
    "\n",
    "x_new, nb_iterations = implied_volatility_call(x_0,C,S,K,T,q,r)\n",
    "print(\"Approx. = \", x_new, \" avec \", nb_iterations, \" itérations.\")"
   ]
  },
  {
   "cell_type": "markdown",
   "id": "33cb70dc",
   "metadata": {},
   "source": [
    "En conclusion, $\\sigma_{imp} \\approx 39.71 \\%$ obtenu au bout de $3$ itérations (avec une précision de $10^{-6}$). "
   ]
  },
  {
   "cell_type": "markdown",
   "id": "5b3147d2",
   "metadata": {},
   "source": [
    "#### 4.2) Cas du put. <a id=\"part42\"></a>"
   ]
  },
  {
   "cell_type": "markdown",
   "id": "2b21d155",
   "metadata": {},
   "source": [
    "Procédons de manière analogue que dans le cas d'un call. Sous les mêmes hypothèses que précédemment, on obtient pour $0 \\geq t < T$ : \n",
    "\n",
    "$$P_t = K\\text{e}^{-r(T-t)}\\mathcal{N}(-d_2) - S_t\\text{e}^{-q(T-t)}\\mathcal{N}(-d_1),$$\n",
    "\n",
    "avec $d_1 = \\dfrac{\\ln{\\left(\\dfrac{S}{K}\\right)} + \\left(r-q+\\dfrac{\\sigma ^2}{2}\\right)(T-t)}{\\sigma \\sqrt{T-t}}$, $d_2 = d_1 - \\sigma \\sqrt{T-t} = \\dfrac{\\ln{\\left(\\dfrac{S}{K}\\right)} + \\left(r-q-\\dfrac{\\sigma ^2}{2}\\right)(T-t)}{\\sigma \\sqrt{T-t}}.$\n",
    "\n",
    "Pour des raisons de clarté, on pose ici $t = 0$. Trouver la volatilité implicite revient à résoudre l'équation $f(x) = 0$ où : \n",
    "\n",
    "$$f(x) = K\\text{e}^{-rT}\\mathcal{N}(-d_2) - S_0\\text{e}^{-qT}\\mathcal{N}(-d_1) - P_0,$$\n",
    "\n",
    "avec donc  $d_1 = \\dfrac{\\ln{\\left(\\dfrac{S}{K}\\right)} + \\left(r-q+\\dfrac{x^2}{2}\\right)T}{\\sigma \\sqrt{T}}$, $d_2 = d_1 - x\\sqrt{T} = \\dfrac{\\ln{\\left(\\dfrac{S}{K}\\right)} + \\left(r-q-\\dfrac{x^2}{2}\\right)T}{\\sigma \\sqrt{T}}.$\n",
    "\n",
    "Appliquons une fois de plus la méthode de Newton. Pour cela, il faut dériver $f$, ce qui revient à calculer le vega du put. Autrement dit : \n",
    "\n",
    "$$ \\text{vega}(P) = \\dfrac{\\partial P}{\\partial \\sigma}.$$"
   ]
  },
  {
   "cell_type": "markdown",
   "id": "5b500772",
   "metadata": {},
   "source": [
    "On utilise la relation de parité Call-Put : \n",
    "\n",
    "$$P_0 = K\\text{e}^{-rT} - S_0\\text{e}^{-qT}+C_0 $$\n",
    "\n",
    "Ceci implique directement (comme tous les autres termes ne dépendent pas de $\\sigma$), que : \n",
    "\n",
    "$$\\text{vega}(P) = \\text{vega}(C) =S_0\\text{e}^{-qT}\\sqrt{T}\\dfrac{1}{\\sqrt{2\\pi}}\\text{e}^{-\\frac{d_1^2}{2}}.$$ "
   ]
  },
  {
   "cell_type": "markdown",
   "id": "91b34373",
   "metadata": {},
   "source": [
    "Implémentons seulement la routine permettant d'évaluer $f(x)$. Comme $\\text{vega}(P) = \\text{vega}(C)$, la routine `vega` introduite dans la section précédente convient. "
   ]
  },
  {
   "cell_type": "code",
   "execution_count": 31,
   "id": "6302e7f3",
   "metadata": {},
   "outputs": [
    {
     "data": {
      "text/plain": [
       "3.535743156437034"
      ]
     },
     "execution_count": 31,
     "metadata": {},
     "output_type": "execute_result"
    }
   ],
   "source": [
    "def f_put(x,P,S,K,T,q,r) : \n",
    "    d1 = (np.log(S/K) + (r-q+x*x/2)*(T))/(x*np.sqrt(T))\n",
    "    d2 = d1-x*np.sqrt(T)\n",
    "    return K*np.exp(-r*T)*norm.cdf(-d2)-S*np.exp(-q*T)*norm.cdf(-d1)-P\n",
    "\n",
    "\n",
    "f_put(0.75, 3, 25, 25, 1, 0, 0.05)"
   ]
  },
  {
   "cell_type": "markdown",
   "id": "daf483cb",
   "metadata": {},
   "source": [
    "> **Exemple:** En utilisant uniquement la méthode de Newton, calculer la volatilité implicite d'un put $ATM$ de prix $P = 3$, de strike $K = 25$, de maturité $T = 1$ an, ne payant pas de dividendes avec un taux sans risque $r = 0.05$. "
   ]
  },
  {
   "cell_type": "markdown",
   "id": "92372deb",
   "metadata": {},
   "source": [
    "Afin d'illustrer notre propos nous allons trouver la volatilité implicite d'un put de premium $P = 3$, de strike $K = 25$, de maturité $T = 1$ année sur un actif sous-jacent de prix $S_0 = 25$ ne payant pas de dividendes : $q = 0$, avec un taux sans risque de $5 \\%$, i.e. $r = 0.05$."
   ]
  },
  {
   "cell_type": "code",
   "execution_count": 32,
   "id": "8cb350c0",
   "metadata": {},
   "outputs": [],
   "source": [
    "T = 1\n",
    "K = 25 \n",
    "S = 25 \n",
    "P = 3\n",
    "q = 0\n",
    "r = 0.05 \n",
    "seuil_approx = 1e-9\n",
    "seuil_int = 1e-6 "
   ]
  },
  {
   "cell_type": "markdown",
   "id": "510f20e2",
   "metadata": {},
   "source": [
    "On choisit comme première estimation $x_0 = 0.5$. "
   ]
  },
  {
   "cell_type": "code",
   "execution_count": 33,
   "id": "82c1dee3",
   "metadata": {},
   "outputs": [],
   "source": [
    "x_0 = 0.5"
   ]
  },
  {
   "cell_type": "code",
   "execution_count": 34,
   "id": "0385cefc",
   "metadata": {},
   "outputs": [],
   "source": [
    "def implied_volatility_put(x0,P,S,K,T,q,r) : \n",
    "    x_new = x0\n",
    "    x_old = x0 - 1\n",
    "    seuil = 1e-6\n",
    "    nb_iterations = 0 \n",
    "    while np.abs(x_new-x_old) > seuil : \n",
    "        x_old = x_new \n",
    "        x_new -= f_put(x_new, P,S,K,T,q,r)/vega(x_new,S,K,T,q,r)\n",
    "        nb_iterations +=1 \n",
    "    return x_new, nb_iterations "
   ]
  },
  {
   "cell_type": "code",
   "execution_count": 35,
   "id": "445d0c3c",
   "metadata": {},
   "outputs": [
    {
     "name": "stdout",
     "output_type": "stream",
     "text": [
      "Approx. =  0.36974426673135113  avec  3  itérations.\n"
     ]
    }
   ],
   "source": [
    "x_new, nb_iterations = implied_volatility_put(x_0,P,S,K,T,q,r) \n",
    "print(\"Approx. = \", x_new, \" avec \", nb_iterations, \" itérations.\")"
   ]
  },
  {
   "cell_type": "markdown",
   "id": "e1b26338",
   "metadata": {},
   "source": [
    "Autrement dit, $\\sigma_{imp} \\approx 36.97 \\%$, obtenu au bout de 3 itérations, avec une précision de $10^{-6}$."
   ]
  },
  {
   "cell_type": "markdown",
   "id": "fae700fb",
   "metadata": {},
   "source": [
    "### 5) Détermination des taux zéro coupon : bootstrapping.<a id=\"part5\"></a>\n",
    "\n",
    "La méthode du **bootstrapping** est une technique utilisée pour construire une courbe des taux zéro-coupon à partir des prix des obligations couponnées. Pour cela, nous devons rassembler les prix actuels des obligations sur le marché. "
   ]
  },
  {
   "cell_type": "markdown",
   "id": "0f2a0606",
   "metadata": {},
   "source": [
    "> **Exemple :** Les prix des obligations (à composante semi - annuelle) sont donnés par : \n",
    ">\n",
    "> | Maturité $(T)$ | Coupon annuel (en $\\%$)   | Prix de l'oblgiation $(B)$| \n",
    "|:----------------:|:-------------------------:|:--------------------:|\n",
    "| $0.5$            | $0$                       |$99.4665$             |\n",
    "| $1$              | $0$                       |$98.6196$             |\n",
    "| $2$              | $2$                       |$101+\\dfrac{17.5}{32}$ | \n",
    "| $3$              | $4.5$                     |$107+\\dfrac{18}{32}$   |\n",
    "| $5$              | $3.125$                   |$102+\\dfrac{8}{32}$    |\n",
    "| $10$             | $4$                       |$103+\\dfrac{8.5}{32}$  | \n",
    ">\n",
    "> Utiliser le bootstrapping pour obtenir une courbe de taux zéro à partir des obligations à $6$ mois, un an, $2$ ans, $5$ ans et $10$ ans. \n",
    ">\n",
    "> Estimer l'erreur relative commise lorsque l'on price le coupon de maturité $T = 3$, avec la courbe des taux zéro coupon obtenue. \n"
   ]
  },
  {
   "cell_type": "markdown",
   "id": "3fcb79f9",
   "metadata": {},
   "source": [
    "Les taux à 6 mois et 1 an se calculent directement (zéro-coupon) : \n",
    "\n",
    "* $99.4565 = 100\\text{e}^{-0.5r(0,0.5)} \\Leftrightarrow r(0,0.5) = -2\\ln \\left(\\dfrac{99.4565}{100}\\right) \\approx 0.010899$. Par la suite on utilisera $r(0,0.5) = 0.0109$ soit $1.09 \\%$. \n",
    "\n",
    "* $98.6196 = 100\\text{e}^{-r(0,1)} \\Leftrightarrow r(0,1) = -\\ln \\left(\\dfrac{98.6196}{100}\\right) \\approx 0.0139001$. Par la suite on utilisera $r(0,1) = 0.0139$ soit $1.39 \\%$. \n",
    "\n",
    "À présent nous allons utiliser le *bootstrapping* pour calculer $r(0,2)$. Par définition : \n",
    "\n",
    "$$ 101+\\dfrac{17.5}{32} = 100\\dfrac{C}{2}\\left(\\text{e}^{-0.5r(0,0.5)} + \\text{e}^{-r(0,1)} + \\text{e}^{-1.5r(0,1.5)} \\right) + 100\\left(1+\\dfrac{C}{2}\\right)\\text{e}^{-2r(0,2)}.$$ \n",
    "\n",
    "Par hypothèse $t \\rightarrow r(0,t) $ est linéaire sur $[1,2]$. Donc pour tout $ 1 < t < 2$ : \n",
    "\n",
    "$$r(0,t) = \\dfrac{(2-t)r(0,1)+(t-1)r(0,2)}{2-1} =(2-t)r(0,1)+(t-1)r(0,2).$$"
   ]
  },
  {
   "cell_type": "markdown",
   "id": "6fd74779",
   "metadata": {},
   "source": [
    "Donc $r(0,1.5) = 0.5\\,r(0,1)+0.5\\,r(0.2)$.\n",
    "\n",
    "\n",
    "En posant $x = r(0,2)$, on a finalement l'équation : \n",
    "\n",
    "$$ 101+\\dfrac{17.5}{32} = 100\\dfrac{C}{2}\\left(\\text{e}^{-0.5r(0,0.5)} + \\text{e}^{-r(0,1)} + \\text{e}^{-0.75\\left(r(0,1)+x\\right)} \\right) + 100\\left(1+\\dfrac{C}{2}\\right)\\text{e}^{-2x}.$$\n",
    "\n",
    "Appliquons alors la méthode de Newton à : \n",
    "\n",
    "$$f(x) = 100\\dfrac{C}{2}\\left(\\text{e}^{-0.5r(0,0.5)} + \\text{e}^{-r(0,1)} + \\text{e}^{-0.75\\left(r(0,1)+x\\right)} \\right) + 100\\left(1+\\dfrac{C}{2}\\right)\\text{e}^{-2x} - 101-\\dfrac{17.5}{32}$$"
   ]
  },
  {
   "cell_type": "code",
   "execution_count": 36,
   "id": "dfe0256e",
   "metadata": {},
   "outputs": [],
   "source": [
    "C = 0.02\n",
    "\n",
    "def f_02(x) : \n",
    "    return 100*C/2*(np.exp(-0.5*0.0109)+np.exp(-0.0139)+np.exp(-0.75*(0.0139+x)))+100*(1+C/2)*np.exp(-2*x)-101-17.5/32\n",
    "\n",
    "def df_02(x) :\n",
    "    term1 = 100 * C / 2 * (-0.75) * np.exp(-0.75 * (0.0139 + x))\n",
    "    term2 = 100 * (1 + C / 2) * (-2) * np.exp(-2 * x)\n",
    "    return term1 + term2"
   ]
  },
  {
   "cell_type": "code",
   "execution_count": 37,
   "id": "f63adfc1",
   "metadata": {},
   "outputs": [
    {
     "name": "stdout",
     "output_type": "stream",
     "text": [
      "r(0,2) approx.  0.012098547617229487  obtenu avec  3  iterations.\n"
     ]
    }
   ],
   "source": [
    "res, nb = newton_method(0.0139, f_02, df_02, seuil_int, seuil_approx)\n",
    "print(\"r(0,2) approx. \", res, \" obtenu avec \", nb, \" iterations.\")"
   ]
  },
  {
   "cell_type": "markdown",
   "id": "b517dbd2",
   "metadata": {},
   "source": [
    "On obtient alors $r(0,2) \\approx 0.0120985$. Par la suite on utilisera $r(0,2) = 0.012099$, soit $1.2099 \\%$. "
   ]
  },
  {
   "cell_type": "markdown",
   "id": "7bdb3a06",
   "metadata": {},
   "source": [
    "Calculons maintenant $r(0,5)$. Par hypothèse $t \\rightarrow r(0,t)$ est linéaire sur l'intervalle $[2,5]$. De plus par définition : \n",
    "\n",
    "$$ 102+\\dfrac{8}{32} = 100\\dfrac{C}{2}\\left(\\text{e}^{-0.5r(0,0.5)} + \\text{e}^{-r(0,1)} + \\text{e}^{-1.5r(0,1.5)} +\\text{e}^{-2r(0,2)}+\\text{e}^{-2.5r(0,2.5)}+\\text{e}^{-3r(0,3)}+\\text{e}^{-3.5r(0,3.5)}+\\text{e}^{-4r(0,4)}+\\text{e}^{-4.5r(0,4.5)}\\right) + 100\\left(1+\\dfrac{C}{2}\\right)\\text{e}^{-5r(0,5)}.$$ \n",
    "\n",
    "On a pour tout $t \\in [2,5]$ : \n",
    "$r(0,t) = \\dfrac{(5-t)r(0,2)+(t-2)r(0,5)}{3}.$\n",
    "\n",
    "En posant comme précédemment $x = r(0,5)$ on a : \n",
    "\n",
    "* $r(0,2.5) = \\dfrac{2.5r(0,2)+0.5x}{3}$\n",
    "* $r(0,3) = \\dfrac{2r(0,2)+x}{3}$\n",
    "* $r(0,3.5) = \\dfrac{1.5r(0,2)+1.5x}{3}$ \n",
    "* $r(0,4) = \\dfrac{r(0,2)+2x}{3}$ \n",
    "* $r(0,4.5) = \\dfrac{0.5r(0,2)+2.5x}{3}$ "
   ]
  },
  {
   "cell_type": "markdown",
   "id": "f1d4b898",
   "metadata": {},
   "source": [
    "Appliquons alors la méthode de Newton à : \n",
    "\n",
    "$$f(x) = 100\\times\\dfrac{C}{2}\\left(\\text{e}^{-0.5r(0.5)}+\\text{e}^{-r(0,1)}+\\text{e}^{-0.75(r(0,1)+x))}+\\text{e}^{-2r(0,2)} +\\text{e}^{-\\frac{2.5}{3}(2.5r(0,2)+0.5x)} +\\text{e}^{-2r(0,2)-x}+\\text{e}^{-\\frac{3.5}{3}(1.5r(0,2)+1.5x)}+\\text{e}^{-\\frac{4}{3}(r(0,2)+2x)}+\\text{e}^{-\\frac{4.5}{3}(0.5r(0,2)+2.5x)}\\right)+100\\times\\left(1+\\dfrac{C}{2}\\right)\\text{e}^{-5x}-102-\\dfrac{8}{32}$$"
   ]
  },
  {
   "cell_type": "code",
   "execution_count": 38,
   "id": "ba6bccc5",
   "metadata": {},
   "outputs": [],
   "source": [
    "C = 0.03125\n",
    "seuil_int = seuil_approx = 1e-12\n",
    "\n",
    "def f_05(x) : \n",
    "    return 100*C/2*(np.exp(-0.5*0.0109) + np.exp(-0.0139) + \n",
    "                    np.exp(-0.75*(0.0139+x))+ np.exp(-2*0.012099) + np.exp(-2.5/3*(2.5*0.012099+0.5*x)) +  np.exp(-2*0.012099-x)\n",
    "                    + np.exp(-3.5/3*(1.5*0.012099+1.5*x)) + np.exp(-4/3*(0.012099+2*x))\n",
    "                    + np.exp(-4.5/3*(0.5*0.012099+2.5*x)))+100*(1+C/2)*np.exp(-5*x)-102-8/32\n",
    "\n",
    "def df_05(x):\n",
    "    const1 = 100 * C / 2\n",
    "    const2 = 100 * (1 + C / 2)\n",
    "    \n",
    "    term1 = const1 * (-0.75 * np.exp(-0.75 * (0.0139 + x)))\n",
    "    term2 = const1 * (-2.5/3 * np.exp(-2.5/3 * (2.5 * 0.012099 + 0.5 * x)))\n",
    "    term3 = const1 * (-np.exp(-2 * 0.012099 - x))\n",
    "    term4 = const1 * (-3.5/3 * np.exp(-3.5/3 * (1.5 * 0.012099 + 1.5 * x)))\n",
    "    term5 = const1 * (-4/3 * np.exp(-4/3 * (0.012099 + 2 * x)))\n",
    "    term6 = const1 * (-4.5/3 * np.exp(-4.5/3 * (0.5 * 0.012099 + 2.5 * x)))\n",
    "    term7 = const2 * (-5 * np.exp(-5 * x))\n",
    "\n",
    "    derivative = term1 + term2 + term3 + term4 + term5 + term6 + term7\n",
    "    \n",
    "    return derivative"
   ]
  },
  {
   "cell_type": "code",
   "execution_count": 39,
   "id": "d1fb6dfb",
   "metadata": {},
   "outputs": [
    {
     "name": "stdout",
     "output_type": "stream",
     "text": [
      "r(0,5) approx.  0.026787204670863814  obtenu avec  7  iterations.\n"
     ]
    }
   ],
   "source": [
    "C = 0.03125\n",
    "res, nb = newton_method(0.012099, f_05, df_05, seuil_int, seuil_approx)\n",
    "print(\"r(0,5) approx. \", res, \" obtenu avec \", nb, \" iterations.\")"
   ]
  },
  {
   "cell_type": "markdown",
   "id": "686f8433",
   "metadata": {},
   "source": [
    "Donc $r(0,5) \\approx 0.02679$, soit $ 2.679 \\%$.\n",
    "\n",
    "Par des calculs similaires on obtient $r(0,10) \\approx 0.037371$, soit $ 3.7371 \\%$. \n",
    "\n",
    "Finalement, $r(0,t) = \n",
    "\\begin{cases}\n",
    "   (2t-1)r(0,1)+2(1-t)r(0,0.5) &\\text{si } 0.5 \\leq t \\leq 1 \\\\\n",
    "   (t-1)r(0,2)+(2-t)r(0,1) &\\text{si } 1 \\leq t \\leq 2 \\\\\n",
    "   \\dfrac{(t-2)r(0,5)+(5-t)r(0,2)}{3} &\\text{si } 2 \\leq t \\leq 5 \\\\ \n",
    "   \\dfrac{(t-5)r(0,10)+(10-t)r(0,5)}{5} &\\text{si } 5 \\leq t \\leq 10 \\\\\n",
    "\\end{cases}$"
   ]
  },
  {
   "cell_type": "code",
   "execution_count": 40,
   "id": "44c4c8db",
   "metadata": {},
   "outputs": [
    {
     "data": {
      "image/png": "[encoded data removed]",
      "text/plain": [
       "<Figure size 1000x600 with 1 Axes>"
      ]
     },
     "metadata": {},
     "output_type": "display_data"
    }
   ],
   "source": [
    "def zero_rate_curve(t) : \n",
    "    if(t < 0.5) : return zero_rate_curve(0.5)\n",
    "    if(0.5 <= t and t<1) : return 2*(t-0.5)*0.0139+2*(1-t)*0.0109\n",
    "    if(1 <= t and t < 2) : return (t-1)*0.012099+(2-t)*0.0139\n",
    "    if(2 <= t and t < 5) : return ((t-2)*0.0268+(5-t)*0.012099)/3\n",
    "    if(5 <= t and t <= 10) : return ((t-5)*0.03771+(10-t)*0.0268)/5\n",
    "    return zero_rate_curve(10) \n",
    "\n",
    "t = np.linspace(0, 10.5, 1000)\n",
    "y = np.array([zero_rate_curve(ti) for ti in t])\n",
    "\n",
    "plt.figure(figsize=(10, 6))\n",
    "plt.plot(t, y)\n",
    "plt.xlabel(fr\"$t$\")\n",
    "plt.ylabel(fr\"$r(0,t)$\")\n",
    "plt.title(\"Courbe des taux zéro-coupon\")\n",
    "plt.grid(linestyle = '--', linewidth = 0.5)\n",
    "plt.show()"
   ]
  },
  {
   "cell_type": "markdown",
   "id": "25e2ef53",
   "metadata": {},
   "source": [
    "Le prix donné par la table en début de l'exemple est : $ B_3 = 107 + \\dfrac{8}{32}$. Le prix d'une obligation étant donnée la courbe zéro coupon est : \n",
    "\n",
    "$$B = \\displaystyle \\sum_{i=1}^n c_i\\,\\text{exp}\\left(-r(0,t_i)t_i\\right),$$\n",
    "\n",
    "où : \n",
    "\n",
    "* `n`, le nombre total de flux. \n",
    "* `t_cash_flow`, le vecteur des dates auxquelles ont lieux ces flux. \n",
    "* `c_cash_flow`, le vecteur des montants versés aux dates initiées par le précédent vecteur.\n",
    "* `r_zero`, routine permettant de d'évaluer $r(0,t)$ à toute date $t$. "
   ]
  },
  {
   "cell_type": "code",
   "execution_count": 41,
   "id": "67f36f15",
   "metadata": {},
   "outputs": [],
   "source": [
    "def bond_price_with_zero_rate_curve(n,t_cash_flow,c_cash_flow,r_zero) : \n",
    "    B = 0 \n",
    "    for i in range (0,n) : \n",
    "        discount_factor = np.exp(-t_cash_flow[i]*r_zero(t_cash_flow[i]))\n",
    "        B += c_cash_flow[i]*discount_factor\n",
    "    return B "
   ]
  },
  {
   "cell_type": "code",
   "execution_count": 42,
   "id": "24f90bfb",
   "metadata": {},
   "outputs": [
    {
     "name": "stdout",
     "output_type": "stream",
     "text": [
      "B_approx =  108.19529164800177\n"
     ]
    }
   ],
   "source": [
    "n = 6\n",
    "t_cash_flow = [6/12, 12/12, 18/12, 24/12, 30/12, 36/12]\n",
    "F = 100\n",
    "C = 0.045\n",
    "c_cash_flow = [C/2*F] * (n-1) + [(1 + C/2)*F]\n",
    "\n",
    "B_approx = bond_price_with_zero_rate_curve(n, t_cash_flow, c_cash_flow, zero_rate_curve)\n",
    "print(\"B_approx = \", B_approx)"
   ]
  },
  {
   "cell_type": "markdown",
   "id": "a3c47908",
   "metadata": {},
   "source": [
    "L'erreur relative commise est donc : $\\dfrac{|B - B_{approx}|}{B}.$"
   ]
  },
  {
   "cell_type": "code",
   "execution_count": 43,
   "id": "f94d7189",
   "metadata": {},
   "outputs": [
    {
     "name": "stdout",
     "output_type": "stream",
     "text": [
      "Erreur relative =  0.008813908139876649 soit  0.881390813987665  %.\n"
     ]
    }
   ],
   "source": [
    "B = 107+8/32\n",
    "print(\"Erreur relative = \", np.abs(B-B_approx)/B, \"soit \",np.abs(B-B_approx)/B*100, \" %.\") "
   ]
  }
 ],
 "metadata": {
  "kernelspec": {
   "display_name": "Python 3 (ipykernel)",
   "language": "python",
   "name": "python3"
  },
  "language_info": {
   "codemirror_mode": {
    "name": "ipython",
    "version": 3
   },
   "file_extension": ".py",
   "mimetype": "text/x-python",
   "name": "python",
   "nbconvert_exporter": "python",
   "pygments_lexer": "ipython3",
   "version": "3.10.9"
  }
 },
 "nbformat": 4,
 "nbformat_minor": 5
}
